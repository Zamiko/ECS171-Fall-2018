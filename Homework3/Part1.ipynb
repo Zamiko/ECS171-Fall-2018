{
 "cells": [
  {
   "cell_type": "code",
   "execution_count": 27,
   "metadata": {},
   "outputs": [],
   "source": [
    "import pandas as pd\n",
    "import numpy as np\n",
    "import sklearn\n",
    "from sklearn.linear_model import RidgeCV,Ridge, LassoCV, Lasso\n",
    "from sklearn.metrics import make_scorer, mean_squared_error"
   ]
  },
  {
   "cell_type": "code",
   "execution_count": 28,
   "metadata": {},
   "outputs": [
    {
     "name": "stderr",
     "output_type": "stream",
     "text": [
      "/anaconda3/lib/python3.7/site-packages/ipykernel_launcher.py:2: ParserWarning: Falling back to the 'python' engine because the 'c' engine does not support regex separators (separators > 1 char and different from '\\s+' are interpreted as regex); you can avoid this warning by specifying engine='python'.\n",
      "  \n"
     ]
    }
   ],
   "source": [
    "#Load Data\n",
    "df = pd.read_csv(\"ecs171.dataset.txt\", sep= '\\s')"
   ]
  },
  {
   "cell_type": "markdown",
   "metadata": {},
   "source": [
    "# Objective\n",
    "\n",
    "-  Implement Ridge Regression\n",
    "\n",
    "# Key Results\n",
    "- Explain what it does\n",
    "- Find optimal constraint (lambda)\n",
    "- Report the number of non-zero coefficients\n",
    "- Report 10 folds-cross validation error\n"
   ]
  },
  {
   "cell_type": "code",
   "execution_count": 29,
   "metadata": {},
   "outputs": [
    {
     "name": "stdout",
     "output_type": "stream",
     "text": [
      "Index(['Strain', 'Medium', 'Stress', 'GenePerturbed', 'GrowthRate', 'b3356',\n",
      "       'b2922', 'b2519', 'b3823', 'b3824',\n",
      "       ...\n",
      "       'b4673', 'b4684', 'b4689', 'b4685', 'b4683', 'b4682', 'b4699', 'b4698',\n",
      "       'b4704', 'b4703'],\n",
      "      dtype='object', length=4500)\n"
     ]
    }
   ],
   "source": [
    "#Extract Features and Label\n",
    "df = df.drop(['ID'],axis=1)    #Remove ID\n",
    "print(df.columns)"
   ]
  },
  {
   "cell_type": "code",
   "execution_count": 30,
   "metadata": {},
   "outputs": [],
   "source": [
    "#Extract Gene's and Growth Rate\n",
    "X = df.iloc[:,5:]    #Get Features\n",
    "Y = df.iloc[:,4]\n",
    "m = X.shape[0]   #Number of Examples\n",
    "n = X.shape[1]   #Number of Features\n",
    "lambda_values = [0.01,0.1,0.25,0.5,1,1.5,3,5,10]   #Try some Lamda values\n"
   ]
  },
  {
   "cell_type": "code",
   "execution_count": 31,
   "metadata": {},
   "outputs": [
    {
     "data": {
      "text/plain": [
       "RidgeCV(alphas=[0.01, 0.1, 0.25, 0.5, 1, 1.5, 3, 5, 10], cv=10,\n",
       "    fit_intercept=True, gcv_mode=None, normalize=True,\n",
       "    scoring=make_scorer(mean_squared_error, greater_is_better=False),\n",
       "    store_cv_values=False)"
      ]
     },
     "execution_count": 31,
     "metadata": {},
     "output_type": "execute_result"
    }
   ],
   "source": [
    "#Ridge model\n",
    "mse = make_scorer(mean_squared_error, greater_is_better=False)  # Define Scoring function(MSE is used)\n",
    "Ridge_model = RidgeCV(alphas=lambda_values,cv=10,normalize= True,scoring=mse)\n",
    "Ridge_model.fit(X=X,y=Y)  #Fit data and Cross Validate "
   ]
  },
  {
   "cell_type": "code",
   "execution_count": 32,
   "metadata": {},
   "outputs": [
    {
     "name": "stdout",
     "output_type": "stream",
     "text": [
      "The optimal lambda parameter is  1.5\n",
      "The number of features with non-zero coefficients is 4434\n"
     ]
    }
   ],
   "source": [
    "coef = Ridge_model.coef_  #Get Co-efficients\n",
    "Ridge_zero = (coef==0).sum()    #Check number of zeros in weights\n",
    "Ridge_alpha = Ridge_model.alpha_  #Get optimal alpha value chosen by alg\n",
    "\n",
    "print(\"The optimal lambda parameter is \", Ridge_alpha)\n",
    "print(\"The number of features with non-zero coefficients is\", (n-Ridge_zero))"
   ]
  },
  {
   "cell_type": "code",
   "execution_count": 36,
   "metadata": {},
   "outputs": [],
   "source": [
    "Ridge_model = Ridge(alpha=1.5,normalize=True)  #Define Ridge Model\n",
    "cv = -sklearn.model_selection.cross_val_score(Ridge_model,X,Y,cv=10,verbose=0,scoring=mse)  #Calcualte cross_validated MSE"
   ]
  },
  {
   "cell_type": "code",
   "execution_count": 37,
   "metadata": {},
   "outputs": [
    {
     "name": "stdout",
     "output_type": "stream",
     "text": [
      "10 fold Cross validation error using Ridge Regression is  [0.00476011 0.00284723 0.01174784 0.00832883 0.00790987 0.00919195\n",
      " 0.00910664 0.00270432 0.02423685 0.00201551]\n",
      "\n",
      "The mean of these values is  0.008284914606722284\n"
     ]
    }
   ],
   "source": [
    "\n",
    "print(\"10 fold Cross validation error using Ridge Regression is \", cv[:,])\n",
    "print(\"\")\n",
    "print(\"The mean of these values is \",np.mean(cv))  "
   ]
  },
  {
   "cell_type": "code",
   "execution_count": 35,
   "metadata": {},
   "outputs": [],
   "source": [
    "np.save('coef_ridge',coef)"
   ]
  },
  {
   "cell_type": "code",
   "execution_count": null,
   "metadata": {},
   "outputs": [],
   "source": []
  },
  {
   "cell_type": "code",
   "execution_count": null,
   "metadata": {},
   "outputs": [],
   "source": []
  },
  {
   "cell_type": "code",
   "execution_count": null,
   "metadata": {},
   "outputs": [],
   "source": []
  },
  {
   "cell_type": "code",
   "execution_count": null,
   "metadata": {},
   "outputs": [],
   "source": []
  }
 ],
 "metadata": {
  "kernelspec": {
   "display_name": "Python 3",
   "language": "python",
   "name": "python3"
  },
  "language_info": {
   "codemirror_mode": {
    "name": "ipython",
    "version": 3
   },
   "file_extension": ".py",
   "mimetype": "text/x-python",
   "name": "python",
   "nbconvert_exporter": "python",
   "pygments_lexer": "ipython3",
   "version": "3.7.0"
  }
 },
 "nbformat": 4,
 "nbformat_minor": 2
}
