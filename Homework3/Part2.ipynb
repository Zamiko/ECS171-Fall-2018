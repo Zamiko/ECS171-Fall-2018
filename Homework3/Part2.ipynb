{
 "cells": [
  {
   "cell_type": "code",
   "execution_count": 25,
   "metadata": {},
   "outputs": [],
   "source": [
    "import numpy as np\n",
    "import pandas as pd \n",
    "import math\n",
    "import sklearn\n",
    "from sklearn.linear_model import Ridge\n",
    "from sklearn.utils import resample\n",
    "import matplotlib.pyplot as plt"
   ]
  },
  {
   "cell_type": "markdown",
   "metadata": {},
   "source": [
    "# Objective \n",
    "## Function to report the confidence interval of predictor using bootstrap method\n",
    "\n"
   ]
  },
  {
   "cell_type": "code",
   "execution_count": null,
   "metadata": {},
   "outputs": [],
   "source": [
    "\n"
   ]
  },
  {
   "cell_type": "code",
   "execution_count": 26,
   "metadata": {},
   "outputs": [],
   "source": [
    "#Takes in number of iterations, resampling size, full data set, and sample\n",
    "#Reports the confidence interval of the prediction\n",
    "def bootstrap_confidence_i(n_iterations,n_size,data,sample):\n",
    "    mse_values = [] #Initialize list to hold mse values from all iterations\n",
    "    for i in range(n_iterations):\n",
    "        Ridge_model = Ridge(alpha=1.5,normalize=True,max_iter=100) #define model\n",
    "        train = resample(data, n_samples=n_size)  #Resample to get training data\n",
    "        X_train = train[:,:-1] \n",
    "        Y_train = train[:,-1]\n",
    "        Ridge_model.fit(X_train,Y_train)\n",
    "        test_prediction = Ridge_model.predict(sample) #Predict for sample\n",
    "        mse_values.append(test_prediction) #Append to list\n",
    "    #Plot figure\n",
    "    plt.figure()\n",
    "    plt.hist(mse_values)\n",
    "    plt.show()\n",
    "    #Confidence interval\n",
    "    alpha = 0.95\n",
    "    p = ((1.0-alpha)/2.0) * 100\n",
    "    lower = max(0.0, np.percentile(mse_values, p))\n",
    "    p = (alpha+((1.0-alpha)/2.0)) * 100\n",
    "    upper = min(1.0, np.percentile(mse_values, p))\n",
    "    print('%.1f confidence interval %.4f and %.4f' % (alpha*100, lower, upper))\n",
    "    return "
   ]
  }
 ],
 "metadata": {
  "kernelspec": {
   "display_name": "Python 3",
   "language": "python",
   "name": "python3"
  },
  "language_info": {
   "codemirror_mode": {
    "name": "ipython",
    "version": 3
   },
   "file_extension": ".py",
   "mimetype": "text/x-python",
   "name": "python",
   "nbconvert_exporter": "python",
   "pygments_lexer": "ipython3",
   "version": "3.7.0"
  }
 },
 "nbformat": 4,
 "nbformat_minor": 2
}
