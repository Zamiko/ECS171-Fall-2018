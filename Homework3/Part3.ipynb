{
 "cells": [
  {
   "cell_type": "code",
   "execution_count": 1,
   "metadata": {},
   "outputs": [],
   "source": [
    "import numpy as np\n",
    "import pandas as pd\n",
    "import sklearn\n",
    "from sklearn.linear_model import Ridge\n",
    "import math\n",
    "from sklearn.utils import resample\n",
    "import matplotlib.pyplot as plt"
   ]
  },
  {
   "cell_type": "code",
   "execution_count": 2,
   "metadata": {},
   "outputs": [],
   "source": [
    "#Function made in part2\n",
    "#Takes in number of iterations, resampling size, full data set, and sample\n",
    "#Reports the confidence interval of the prediction\n",
    "def bootstrap_confidence_i(n_iterations,n_size,data,sample):\n",
    "    mse_values = [] #Initialize list to hold mse values from all iterations\n",
    "    for i in range(n_iterations):\n",
    "        Ridge_model = Ridge(alpha=1.5,normalize=True,max_iter=100) #define model\n",
    "        train = resample(data, n_samples=n_size)  #Resample to get training data\n",
    "        X_train = train[:,:-1] \n",
    "        Y_train = train[:,-1]\n",
    "        Ridge_model.fit(X_train,Y_train)\n",
    "        test_prediction = Ridge_model.predict(sample) #Predict for sample\n",
    "        mse_values.append(test_prediction) #Append to list\n",
    "    #Plot figure\n",
    "    plt.figure()\n",
    "    plt.hist(mse_values)\n",
    "    plt.show()\n",
    "    #Confidence interval\n",
    "    alpha = 0.95\n",
    "    p = ((1.0-alpha)/2.0) * 100\n",
    "    lower = max(0.0, np.percentile(mse_values, p))\n",
    "    p = (alpha+((1.0-alpha)/2.0)) * 100\n",
    "    upper = min(1.0, np.percentile(mse_values, p))\n",
    "    print('%.1f confidence interval %.4f and %.4f' % (alpha*100, lower, upper))\n",
    "    return "
   ]
  },
  {
   "cell_type": "markdown",
   "metadata": {},
   "source": [
    "# Objective\n",
    "\n",
    "## Find CI of  Growth rate where genes are expressed at mean value"
   ]
  },
  {
   "cell_type": "code",
   "execution_count": null,
   "metadata": {},
   "outputs": [],
   "source": []
  },
  {
   "cell_type": "code",
   "execution_count": 3,
   "metadata": {},
   "outputs": [
    {
     "name": "stderr",
     "output_type": "stream",
     "text": [
      "/anaconda3/lib/python3.7/site-packages/ipykernel_launcher.py:1: ParserWarning: Falling back to the 'python' engine because the 'c' engine does not support regex separators (separators > 1 char and different from '\\s+' are interpreted as regex); you can avoid this warning by specifying engine='python'.\n",
      "  \"\"\"Entry point for launching an IPython kernel.\n"
     ]
    }
   ],
   "source": [
    "df = pd.read_csv('ecs171.dataset.txt', sep='\\s')"
   ]
  },
  {
   "cell_type": "code",
   "execution_count": 4,
   "metadata": {},
   "outputs": [],
   "source": [
    "#Get featurse and labels\n",
    "X = df.iloc[:,6:].values\n",
    "m = X.shape[0]\n",
    "n = X.shape[1]\n",
    "Y = np.reshape(df.iloc[:,5].values,[m,1])\n"
   ]
  },
  {
   "cell_type": "code",
   "execution_count": 5,
   "metadata": {},
   "outputs": [],
   "source": [
    "#Get mean\n",
    "mean_gene = np.reshape(np.mean(X, axis =0),[1,4495]) #Get Mean Gene values"
   ]
  },
  {
   "cell_type": "code",
   "execution_count": 6,
   "metadata": {},
   "outputs": [],
   "source": [
    "# report confidence interval\n",
    "n_iterations = 100\n",
    "sampling_size = math.floor(X.shape[0]*0.9)\n",
    "data = np.concatenate((X,Y), axis = 1)"
   ]
  },
  {
   "cell_type": "code",
   "execution_count": 7,
   "metadata": {},
   "outputs": [
    {
     "data": {
      "image/png": "[encoded data removed]",
      "text/plain": [
       "<Figure size 432x288 with 1 Axes>"
      ]
     },
     "metadata": {
      "needs_background": "light"
     },
     "output_type": "display_data"
    },
    {
     "name": "stdout",
     "output_type": "stream",
     "text": [
      "95.0 confidence interval 0.3929 and 0.4087\n"
     ]
    }
   ],
   "source": [
    "bootstrap_confidence_i(n_iterations,sampling_size,data,mean_gene)"
   ]
  },
  {
   "cell_type": "code",
   "execution_count": null,
   "metadata": {},
   "outputs": [],
   "source": []
  }
 ],
 "metadata": {
  "kernelspec": {
   "display_name": "Python 3",
   "language": "python",
   "name": "python3"
  },
  "language_info": {
   "codemirror_mode": {
    "name": "ipython",
    "version": 3
   },
   "file_extension": ".py",
   "mimetype": "text/x-python",
   "name": "python",
   "nbconvert_exporter": "python",
   "pygments_lexer": "ipython3",
   "version": "3.7.0"
  }
 },
 "nbformat": 4,
 "nbformat_minor": 2
}
